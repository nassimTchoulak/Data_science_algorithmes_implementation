{
 "cells": [
  {
   "cell_type": "markdown",
   "metadata": {
    "id": "OpOHLyhPpaxC"
   },
   "source": [
    "# Algorithms for Data Science"
   ]
  },
  {
   "cell_type": "markdown",
   "metadata": {
    "id": "NvZ7rLY2pg8i"
   },
   "source": [
    "## Filtering Stream Items"
   ]
  },
  {
   "cell_type": "markdown",
   "metadata": {
    "id": "NqIyJ2BgplVA"
   },
   "source": [
    "### 1. Preliminaries \n",
    "\n",
    "The objective of this lab is to implement algorithms for filtering \"good\" items on streams. We will start by the simple implementation using only one hash function, and then it will be required of you to implement the full Bloom filter. We assume a random stream $S$ of $m$ email strings. We assume that the first $g$ emails are the good ones, that we have $n$ bits allocated in the bit array $B$ (for simplicity, implemented as an array here)."
   ]
  },
  {
   "cell_type": "code",
   "execution_count": 1,
   "metadata": {
    "id": "uj1GxrPF_DxQ"
   },
   "outputs": [],
   "source": [
    "import random\n",
    "from string import ascii_lowercase\n",
    "\n",
    "#parameters\n",
    "m = 100\n",
    "g = 80\n",
    "stream_size = 10000\n",
    "n = 512\n",
    "\n",
    "#generate some random strings of size 5 + 1 + 5\n",
    "D = []\n",
    "for _ in range(m):\n",
    "  D.append(''.join(random.choice(ascii_lowercase) for i in range(5))+\\\n",
    "           '@'+''.join(random.choice(ascii_lowercase) for i in range(5)))\n",
    "\n"
   ]
  },
  {
   "cell_type": "markdown",
   "metadata": {
    "id": "GgKzrJj3_oiX"
   },
   "source": [
    "### 2. Creating a Hash Function, Filtering Items Using a Single Hash\n",
    "\n",
    "In the following we create a hash function $h(x)$, which also takes as a parameter a value and $n$, and returns a value in $0\\dots n-1$. We populate the byte array $B$, and then we simulate a stream taking random values from $D$ and checking whether the value is good or not. We measure the true positive, false positive, and false negative rates. "
   ]
  },
  {
   "cell_type": "code",
   "execution_count": 2,
   "metadata": {
    "colab": {
     "base_uri": "https://localhost:8080/",
     "height": 35
    },
    "id": "IbQ0B1a3BpAV",
    "outputId": "0ee899b2-b9d8-4a43-8dce-ecf772cfc42a",
    "scrolled": true
   },
   "outputs": [
    {
     "name": "stdout",
     "output_type": "stream",
     "text": [
      " D :\n",
      "['pxtee@xpcpz', 'bdgbs@ibbws', 'adjiu@ernls', 'qkmdz@oducs', 'gxzeg@bnyvl', 'dozra@tlivn', 'lzghu@mrnvh', 'fcdav@yixpc', 'gpfvr@gnusb', 'ngtnt@srqyh', 'qedat@cuhfp', 'qzwwd@jrefl', 'gxelg@higfa', 'tmoda@cgkma', 'zditw@wxaws', 'keqwb@rzedc', 'xmurr@lfkcs', 'aimiw@shtkz', 'qfouk@mvtmb', 'xcffx@xwggd', 'qkmyt@hzsco', 'ihfqx@fhzbx', 'ktnam@zylbr', 'jvoog@cofkt', 'zxkgv@djese', 'xaqve@mmwvb', 'xhqcq@arurt', 'przvo@edhtg', 'sjnbq@hxcqk', 'bhfxz@pcxbn', 'zamxz@bfixv', 'bbvze@snbug', 'zhpjh@bepoa', 'edcmi@wkuvz', 'aqavp@mnxqo', 'oeoko@eklhn', 'aettx@exqmx', 'qqzwx@lhrbc', 'azcrz@jauqr', 'crsuq@sizgs', 'ixpxw@jammt', 'vwgzy@yquyb', 'ropdn@xirpr', 'tgtzb@ieloo', 'huvky@uyjgq', 'dwkkp@nqpdp', 'diixj@rcyvx', 'jlzwm@rvwuu', 'ztyzl@jjale', 'rrrhm@ebase', 'upiec@ylxnd', 'wvbtu@lxtmw', 'heptz@vfcqn', 'xyhlr@ivmgi', 'cstnx@rnfml', 'txlvz@smtcz', 'sorzk@novqa', 'gdbht@omxch', 'bntqo@yqvwz', 'lxaea@rkkwn', 'oplty@yjwvh', 'kxdsz@vlxst', 'qndpb@pqauv', 'wqfwg@wlyes', 'oibqt@lsmtb', 'iuzju@ozifh', 'tfajh@iojxq', 'ynjef@zrkal', 'cikce@ldwvb', 'qtvwq@mngjt', 'jdavl@agazp', 'ikckt@pgefh', 'xnddv@zsvow', 'skszt@gbrrv', 'lufoe@qhtcn', 'cahwy@omigi', 'vctaj@tsbmf', 'jzznp@pfjhq', 'joljf@hytme', 'bwaao@zacks', 'utjzf@lqffj', 'kpxym@rkxwu', 'tixmo@pgxkv', 'rhvda@xtxrl', 'yhbay@zemea', 'ahcyc@vwczi', 'sojsf@uqsml', 'llfyl@fuywe', 'cwrgz@wsofc', 'qwlbb@lflpf', 'mmnrv@nmgbl', 'fkmse@tiqch', 'aolxn@iyott', 'kvoam@fgahs', 'jnutv@rctji', 'ivuyp@aivsw', 'swwtm@acjro', 'fhlap@kitur', 'srhri@chibh', 'eycsm@dzgox']\n",
      "good set :\n",
      "{'fcdav@yixpc', 'crsuq@sizgs', 'sorzk@novqa', 'qkmdz@oducs', 'qtvwq@mngjt', 'jlzwm@rvwuu', 'rrrhm@ebase', 'bhfxz@pcxbn', 'gxelg@higfa', 'xcffx@xwggd', 'jvoog@cofkt', 'dozra@tlivn', 'qndpb@pqauv', 'dwkkp@nqpdp', 'jdavl@agazp', 'ktnam@zylbr', 'gdbht@omxch', 'qqzwx@lhrbc', 'cahwy@omigi', 'pxtee@xpcpz', 'aimiw@shtkz', 'oibqt@lsmtb', 'skszt@gbrrv', 'qfouk@mvtmb', 'xhqcq@arurt', 'tmoda@cgkma', 'lufoe@qhtcn', 'ihfqx@fhzbx', 'edcmi@wkuvz', 'sjnbq@hxcqk', 'oplty@yjwvh', 'ropdn@xirpr', 'przvo@edhtg', 'adjiu@ernls', 'gxzeg@bnyvl', 'wvbtu@lxtmw', 'cikce@ldwvb', 'tfajh@iojxq', 'aettx@exqmx', 'vwgzy@yquyb', 'tgtzb@ieloo', 'gpfvr@gnusb', 'xmurr@lfkcs', 'qzwwd@jrefl', 'ngtnt@srqyh', 'qedat@cuhfp', 'oeoko@eklhn', 'wqfwg@wlyes', 'xaqve@mmwvb', 'jzznp@pfjhq', 'upiec@ylxnd', 'bntqo@yqvwz', 'cstnx@rnfml', 'txlvz@smtcz', 'diixj@rcyvx', 'zditw@wxaws', 'xyhlr@ivmgi', 'vctaj@tsbmf', 'iuzju@ozifh', 'bbvze@snbug', 'joljf@hytme', 'kxdsz@vlxst', 'bdgbs@ibbws', 'keqwb@rzedc', 'ixpxw@jammt', 'aqavp@mnxqo', 'zhpjh@bepoa', 'azcrz@jauqr', 'zamxz@bfixv', 'lxaea@rkkwn', 'heptz@vfcqn', 'huvky@uyjgq', 'qkmyt@hzsco', 'bwaao@zacks', 'ynjef@zrkal', 'ikckt@pgefh', 'xnddv@zsvow', 'zxkgv@djese', 'lzghu@mrnvh', 'ztyzl@jjale'}\n",
      "False positive rate: 0.152743\n"
     ]
    }
   ],
   "source": [
    "#hash function\n",
    "def h(x,n):\n",
    "  return hash(x)%n\n",
    "\n",
    "good_set = set(D[:g]) #just for checking TP and FP rates\n",
    "\n",
    "#allocate the array of 0s\n",
    "B = [0] * n\n",
    "\n",
    "#fill the byte array\n",
    "for i in range(g): B[h(D[i],n)] = 1\n",
    "\n",
    "tp = 0 # good items passing\n",
    "fp = 0 # bad items passing\n",
    "tn = 0 # bad items discarded\n",
    "fn = 0 # good items discarded\n",
    "\n",
    "print(\" D :\")\n",
    "print(D)\n",
    "\n",
    "print(\"good set :\")\n",
    "print(good_set)\n",
    "\n",
    "#simulate a stream\n",
    "for _ in range(stream_size):\n",
    "  #take a random email\n",
    "  s = random.choice(D)\n",
    "  #check its hash value\n",
    "  if B[h(s,n)]==1: #good\n",
    "    if s not in good_set:\n",
    "      fp += 1\n",
    "    else:\n",
    "      tp += 1\n",
    "  else: #bad -- this is just a sanity check\n",
    "    if s in good_set:\n",
    "      fn += 1\n",
    "    else:\n",
    "      tn += 1\n",
    "\n",
    "print('False positive rate: %f'%(float(fp)/float(tn+fp)))"
   ]
  },
  {
   "cell_type": "markdown",
   "metadata": {
    "id": "poLqQQeBanUH"
   },
   "source": [
    "We may want to create a random hash function that can also be pairwise independent when we will need to generate $k$ independent pairwise hashes.\n",
    "The following procedure can be implemented:\n",
    "* choose a large prime number $p$\n",
    "* generate two random numbers $a$ and $b$ in the range $\\{1,\\dots,p\\}$\n",
    "* the hash is then $h_{a,b}(x)=ax+b \\mod p$\n",
    "* we can also restrict it into $\\{0,\\dots,n-1\\}$"
   ]
  },
  {
   "cell_type": "code",
   "execution_count": 3,
   "metadata": {
    "colab": {
     "base_uri": "https://localhost:8080/",
     "height": 55
    },
    "id": "muzsN80wa3gY",
    "outputId": "addce3d3-7228-4c61-9402-c2ebc55f0075"
   },
   "outputs": [
    {
     "name": "stdout",
     "output_type": "stream",
     "text": [
      "[0, 1, 0, 1, 0, 0, 0, 1, 0, 1, 1, 0, 0, 0, 1, 0, 0, 0, 0, 1, 0, 0, 0, 0, 0, 0, 0, 0, 0, 0, 0, 0, 0, 1, 0, 0, 0, 0, 0, 0, 0, 0, 1, 0, 0, 0, 0, 0, 0, 0, 0, 0, 0, 0, 1, 0, 0, 1, 0, 1, 0, 1, 0, 0, 0, 0, 0, 0, 0, 0, 0, 0, 1, 1, 0, 1, 0, 1, 0, 1, 0, 0, 0, 0, 1, 0, 0, 1, 0, 0, 0, 0, 0, 0, 0, 0, 0, 0, 0, 0, 1, 0, 1, 0, 0, 0, 0, 0, 0, 0, 0, 0, 0, 1, 0, 0, 0, 0, 0, 0, 0, 1, 0, 0, 0, 0, 0, 0, 0, 0, 1, 0, 0, 0, 0, 0, 1, 0, 0, 0, 0, 0, 0, 0, 0, 0, 0, 0, 0, 0, 0, 0, 1, 0, 0, 0, 0, 0, 0, 1, 0, 1, 0, 0, 0, 0, 0, 0, 1, 0, 0, 0, 0, 0, 0, 0, 0, 0, 0, 0, 1, 0, 1, 0, 0, 0, 0, 0, 0, 0, 0, 0, 0, 0, 0, 0, 0, 0, 0, 1, 1, 0, 0, 0, 0, 0, 0, 0, 1, 1, 0, 0, 0, 1, 0, 0, 0, 0, 0, 0, 0, 0, 0, 0, 0, 0, 0, 1, 0, 0, 0, 0, 0, 0, 0, 0, 0, 0, 0, 0, 0, 0, 0, 0, 0, 0, 0, 1, 0, 0, 0, 0, 1, 0, 0, 0, 0, 0, 0, 0, 0, 0, 0, 0, 0, 0, 0, 0, 0, 1, 0, 0, 0, 0, 0, 0, 0, 0, 0, 0, 0, 0, 0, 0, 0, 0, 0, 0, 0, 0, 0, 0, 1, 1, 0, 1, 0, 0, 0, 0, 0, 0, 0, 0, 0, 0, 0, 0, 0, 0, 1, 1, 0, 0, 0, 0, 0, 0, 0, 0, 0, 1, 0, 0, 0, 1, 0, 0, 0, 1, 0, 0, 0, 0, 0, 0, 0, 0, 0, 0, 0, 0, 0, 0, 0, 1, 0, 0, 0, 0, 0, 0, 1, 0, 0, 0, 0, 1, 0, 0, 1, 0, 0, 0, 0, 0, 0, 0, 0, 0, 0, 1, 1, 0, 0, 0, 0, 0, 0, 0, 0, 1, 0, 0, 0, 0, 0, 0, 0, 0, 0, 0, 0, 0, 0, 0, 0, 0, 0, 1, 0, 0, 1, 0, 0, 0, 0, 0, 0, 1, 0, 0, 0, 0, 0, 0, 0, 0, 0, 0, 0, 0, 1, 0, 0, 0, 0, 1, 0, 0, 0, 0, 0, 1, 1, 0, 1, 0, 0, 0, 1, 0, 1, 0, 0, 1, 0, 0, 0, 0, 0, 0, 1, 0, 0, 0, 0, 0, 0, 0, 0, 0, 0, 1, 1, 0, 0, 0, 0, 1, 0, 0, 0, 0, 0, 0, 0, 0, 0, 0, 1, 0, 0, 0, 0, 0, 0, 0, 0, 1, 1, 0, 0, 0, 0, 0, 0, 0, 0, 0, 0, 1, 0, 1, 0, 0, 0, 0, 0, 0, 0, 0]\n"
     ]
    }
   ],
   "source": [
    "p = 1223543677\n",
    "\n",
    "a = random.randrange(p)\n",
    "b = random.randrange(p)\n",
    "\n",
    "def h_i(x,a,b,p,n):\n",
    "  return ((a*hash(x)+b)%p)%n\n",
    "#remark: here we use hash(x) instead of the values to allow for all hashable python types\n",
    "#   e.g., strings, tuples\n",
    "\n",
    "#reinitialize the array, for testing\n",
    "B = [0] * n\n",
    "\n",
    "for i in range(g): \n",
    "  B[h_i(D[i],a,b,p,n)] = 1\n",
    "\n",
    "print(B)"
   ]
  },
  {
   "cell_type": "markdown",
   "metadata": {
    "id": "Dz9rNT2Na35t"
   },
   "source": [
    "### 3. **TASK** - Bloom Filters\n",
    "\n",
    "Your task is to implement the Bloom filters as described in the class lecture. For this, you have to:\n",
    "1. generate $k$ random pairwise independent hash functions (_hint_: use the example shown above)\n",
    "2. initialize $B$, by setting $1$ in each $h_i(x)$, $i\\in\\{1,\\dots,k\\}$, for all items $x$ in the good set\n",
    "3. an item $s$ in the stream is considered good if, for all $i\\in\\{1,\\dots,k\\}$, we have $B[h_i(s)]=1$\n",
    "\n",
    "Measure the true positive and false positive rate for various values of $k$ and compare to the values obtained when setting $k=n/m\\ln 2$ (to the nearest integer value). What do you notice?\n",
    "\n",
    "Rates:\n",
    "\n",
    "$\n",
    "  \\text{false positive rate} \\frac{FP}{FP+TN}\n",
    "$\n",
    "\n",
    "$\n",
    "  \\text{true positive rate} \\frac{TP}{TP+FN}\n",
    "$"
   ]
  },
  {
   "cell_type": "code",
   "execution_count": 36,
   "metadata": {
    "id": "3Va-_6fda-jf"
   },
   "outputs": [
    {
     "name": "stdout",
     "output_type": "stream",
     "text": [
      "[(433658179, 647158734), (167384188, 32854206), (779595818, 1041985266)]\n",
      "[0, 0, 0, 0, 0, 1, 1, 0, 0, 0, 1, 0, 0, 0, 0, 0, 1, 0, 1, 0, 0, 0, 0, 0, 1, 0, 1, 0, 0, 0, 0, 0, 0, 0, 1, 1, 0, 0, 0, 0, 1, 0, 1, 0, 1, 0, 0, 0, 1, 1, 1, 1, 0, 1, 1, 1, 1, 0, 1, 1, 0, 1, 0, 0, 0, 1, 0, 1, 1, 1, 0, 0, 0, 1, 0, 1, 0, 0, 0, 1, 1, 1, 0, 0, 1, 0, 1, 1, 0, 0, 0, 0, 0, 0, 0, 0, 1, 0, 0, 1, 0, 0, 0, 0, 0, 0, 1, 1, 0, 1, 0, 1, 0, 1, 1, 1, 1, 0, 0, 0, 1, 1, 0, 0, 0, 1, 1, 0, 0, 0, 1, 0, 0, 0, 0, 1, 0, 1, 1, 1, 0, 1, 0, 1, 1, 0, 1, 0, 1, 1, 0, 0, 0, 0, 0, 0, 0, 0, 0, 1, 1, 1, 1, 0, 0, 0, 0, 0, 0, 1, 0, 1, 0, 1, 1, 1, 0, 0, 0, 1, 1, 1, 1, 0, 0, 1, 0, 1, 1, 1, 0, 1, 1, 0, 1, 0, 1, 1, 0, 0, 1, 0, 1, 0, 0, 0, 1, 0, 0, 1, 0, 0, 0, 0, 0, 0, 0, 1, 1, 0, 0, 0, 0, 0, 1, 1, 1, 1, 0, 1, 0, 1, 0, 0, 0, 0, 1, 1, 1, 1, 1, 0, 1, 0, 0, 0, 0, 0, 0, 1, 1, 0, 0, 0, 0, 0, 0, 1, 1, 1, 0, 0, 1, 1, 0, 1, 0, 0, 1, 1, 1, 0, 0, 1, 1, 1, 0, 1, 0, 0, 0, 0, 0, 1, 1, 1, 1, 0, 0, 0, 0, 0, 0, 0, 0, 0, 0, 1, 0, 0, 0, 0, 0, 1, 1, 0, 0, 1, 0, 1, 0, 0, 1, 1, 0, 0, 0, 0, 0, 0, 1, 0, 0, 0, 0, 0, 1, 0, 1, 1, 1, 0, 0, 0, 1, 1, 0, 0, 1, 1, 1, 1, 1, 1, 1, 1, 0, 0, 0, 0, 0, 1, 0, 0, 1, 0, 0, 0, 0, 0, 1, 1, 0, 0, 0, 1, 1, 0, 1, 1, 0, 1, 1, 0, 0, 1, 0, 0, 0, 1, 0, 0, 0, 1, 0, 1, 1, 0, 0, 0, 0, 0, 0, 1, 0, 0, 0, 0, 0, 0, 1, 0, 1, 0, 0, 1, 1, 0, 0, 0, 1, 0, 0, 1, 1, 0, 1, 0, 0, 0, 0, 0, 1, 0, 1, 0, 0, 0, 0, 0, 1, 1, 1, 0, 0, 1, 0, 1, 0, 0, 0, 1, 1, 0, 1, 0, 1, 0, 0, 1, 0, 0, 0, 0, 0, 1, 1, 1, 0, 1, 0, 1, 0, 1, 0, 0, 0, 0, 0, 0, 0, 1, 0, 0, 0, 1, 1, 0, 0, 0, 0, 0, 1, 0, 0, 0, 1, 0, 1, 1, 1, 1, 0, 0, 1, 0, 0, 1, 0, 0, 1, 0, 1, 0, 0, 1, 0, 0, 0, 0, 0, 1]\n",
      "False positive rate: 0.104361\n",
      "True positive rate: 1.000000\n"
     ]
    }
   ],
   "source": [
    "# YOUR CODE HERE\n",
    "k = 3 # number of independent hash functions\n",
    "\n",
    "#reinitialize the array\n",
    "B = [0] * n\n",
    "\n",
    "#define the independant hash functions h_i\n",
    "\n",
    "hash_bank = [] # stores all defining parametres for the hash functions\n",
    "\n",
    "for i in range(k):\n",
    "    #n, p are know so we store a tuple (a,b) to identify each hash function\n",
    "    hash_bank.append((random.randrange(p),random.randrange(p)))\n",
    "    \n",
    "print(hash_bank)\n",
    "\n",
    "# insert elements and initialize B with hash functions values\n",
    "\n",
    "for i in range(g): # for each wanted values\n",
    "    for hash_params in hash_bank: # for all hash functions\n",
    "        B[h_i(D[i],hash_params[0],hash_params[1],p,n)] = 1\n",
    "        \n",
    "        \n",
    "\n",
    "def is_element_accepted_by_all_hash_function(element,params_list,bits_vector):\n",
    "    correct = True\n",
    "    index_params = 0\n",
    "    while correct and (index_params<len(params_list)):\n",
    "        if bits_vector[h_i(element,params_list[index_params][0],params_list[index_params][1],p,n)] == 1:\n",
    "            index_params+=1\n",
    "        else:\n",
    "            correct = False\n",
    "    \n",
    "    return correct\n",
    "\n",
    "print(B)\n",
    "\n",
    "tp = 0 # good items passing\n",
    "fp = 0 # bad items passing\n",
    "tn = 0 # bad items discarded\n",
    "fn = 0 # good items discarded\n",
    "\n",
    "for _ in range(stream_size):\n",
    "  #take a random email\n",
    "  s = random.choice(D)\n",
    "  #check its hash value\n",
    "  if is_element_accepted_by_all_hash_function(s,hash_bank,B): #good\n",
    "    if s not in good_set:\n",
    "      fp += 1\n",
    "    else:\n",
    "      tp += 1\n",
    "  else: #bad -- this is just a sanity check\n",
    "    if s in good_set:\n",
    "      fn += 1\n",
    "    else:\n",
    "      tn += 1\n",
    "\n",
    "print('False positive rate: %f'%(float(fp)/float(tn+fp)))\n",
    "print('True positive rate: %f'%(float(tp)/float(tp+fn)))\n",
    "        \n",
    "\n",
    "\n",
    "#"
   ]
  },
  {
   "cell_type": "markdown",
   "metadata": {
    "id": "FZHcE7Jve1PR"
   },
   "source": [
    "_You can use this cell to write your discussion of the results_"
   ]
  },
  {
   "cell_type": "code",
   "execution_count": 38,
   "metadata": {},
   "outputs": [
    {
     "data": {
      "text/plain": [
       "[<matplotlib.lines.Line2D at 0x1d29d2b2220>]"
      ]
     },
     "execution_count": 38,
     "metadata": {},
     "output_type": "execute_result"
    },
    {
     "data": {
      "image/png": "[encoded data removed]",
      "text/plain": [
       "<Figure size 432x288 with 1 Axes>"
      ]
     },
     "metadata": {
      "needs_background": "light"
     },
     "output_type": "display_data"
    }
   ],
   "source": [
    "\n",
    "def exprement_with_k(k):\n",
    "    B = [0] * n\n",
    "    \n",
    "    hash_bank = [] # stores all defining parametres for the hash functions\n",
    "\n",
    "    for i in range(k):\n",
    "        #n, p are know so we store a tuple (a,b) to identify each hash function\n",
    "        hash_bank.append((random.randrange(p),random.randrange(p)))\n",
    "\n",
    "    # insert elements and initialize B with hash functions values\n",
    "\n",
    "    for i in range(g): # for each wanted values\n",
    "        for hash_params in hash_bank: # for all hash functions\n",
    "            B[h_i(D[i],hash_params[0],hash_params[1],p,n)] = 1\n",
    "\n",
    "    tp = 0 # good items passing\n",
    "    fp = 0 # bad items passing\n",
    "    tn = 0 # bad items discarded\n",
    "    fn = 0 # good items discarded\n",
    "\n",
    "    for _ in range(stream_size):\n",
    "      #take a random email\n",
    "        s = random.choice(D)\n",
    "      #check its hash value\n",
    "        if is_element_accepted_by_all_hash_function(s,hash_bank,B): #good\n",
    "            if s not in good_set:\n",
    "                fp += 1\n",
    "            else:\n",
    "                tp += 1\n",
    "        else: #bad -- this is just a sanity check\n",
    "            if s in good_set:\n",
    "                fn += 1\n",
    "            else:\n",
    "                tn += 1\n",
    "\n",
    "    return float(fp)/float(tn+fp)\n",
    "\n",
    "\n",
    "import matplotlib.pyplot as plt\n",
    "from statistics import mean\n",
    "\n",
    "precision = 7 # allows to exprement many times and avoid noise generated by randomness\n",
    "\n",
    "params_vector = [1,2,3,4,5,6,7,8,9]\n",
    "result_vector = []\n",
    "\n",
    "for param in params_vector:\n",
    "    results = []\n",
    "    for _try in range(precision):\n",
    "        results.append(exprement_with_k(param))\n",
    "        \n",
    "    result_vector.append(mean(results))\n",
    "    \n",
    "plt.xlabel('number of hash function')\n",
    "plt.ylabel('False positive rate')\n",
    "plt.title('False positive rate in function of the number of hash function ');\n",
    "plt.plot(params_vector,result_vector)\n",
    "\n",
    "\n"
   ]
  },
  {
   "cell_type": "code",
   "execution_count": 28,
   "metadata": {},
   "outputs": [
    {
     "data": {
      "text/plain": [
       "5.984"
      ]
     },
     "execution_count": 28,
     "metadata": {},
     "output_type": "execute_result"
    }
   ],
   "source": []
  },
  {
   "cell_type": "code",
   "execution_count": null,
   "metadata": {},
   "outputs": [],
   "source": []
  }
 ],
 "metadata": {
  "colab": {
   "collapsed_sections": [],
   "name": "m2_ds_algods_lab2_filtering_solved.ipynb",
   "provenance": []
  },
  "interpreter": {
   "hash": "b9ad34806fe0aaed47e4f5fdf44b2084d2178e6c31dda8aebed8ee33c81891a7"
  },
  "kernelspec": {
   "display_name": "Python 3",
   "language": "python",
   "name": "python3"
  },
  "language_info": {
   "codemirror_mode": {
    "name": "ipython",
    "version": 3
   },
   "file_extension": ".py",
   "mimetype": "text/x-python",
   "name": "python",
   "nbconvert_exporter": "python",
   "pygments_lexer": "ipython3",
   "version": "3.8.8"
  }
 },
 "nbformat": 4,
 "nbformat_minor": 2
}
