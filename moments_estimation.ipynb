{
 "cells": [
  {
   "cell_type": "markdown",
   "metadata": {
    "id": "OpOHLyhPpaxC"
   },
   "source": [
    "# Algorithms for Data Science"
   ]
  },
  {
   "cell_type": "markdown",
   "metadata": {
    "id": "NvZ7rLY2pg8i"
   },
   "source": [
    "## Computing Moments of a Stream"
   ]
  },
  {
   "cell_type": "markdown",
   "metadata": {
    "id": "NqIyJ2BgplVA"
   },
   "source": [
    "### 1. Preliminaries \n",
    "\n",
    "The objective of this lab is to implement the Alon-Matias-Szegedy approach to estimate the $2$nd moment of the stream in which $N$ distinct items from $0$ to $N-1$ appear."
   ]
  },
  {
   "cell_type": "code",
   "execution_count": 17,
   "metadata": {
    "id": "uj1GxrPF_DxQ"
   },
   "outputs": [],
   "source": [
    "import random\n",
    "\n",
    "#parameters\n",
    "N = 256 #N distinct values between 0 and N-1\n",
    "stream_size = 10000"
   ]
  },
  {
   "cell_type": "markdown",
   "metadata": {
    "id": "GgKzrJj3_oiX"
   },
   "source": [
    "### 2. Alon-Matias-Szegedy for Second Moments\n",
    "\n",
    "We implement here the AMS approach when the stream size is known:\n",
    "1. We choose a number $t$ between $0$ and $\\text{stream\\_size}-1$ from which the counts are kept\n",
    "2. When the stream is at timestamp $t$, we initialize $\\text{v}=S(t)$ and $c=1$\n",
    "3. Whenever we encounter $v$ in the stream, we increment $c$ by $1$\n",
    "\n",
    "At the end of the stream, we output the estimator $\\text{stream\\_size}\\times(2c-1)$\n",
    "\n",
    "This can be easily extended to an arbirary number of counts, by generating $k$ different timestamps and keeping arrays of $v$ and $c$."
   ]
  },
  {
   "cell_type": "code",
   "execution_count": 18,
   "metadata": {
    "colab": {
     "base_uri": "https://localhost:8080/",
     "height": 50
    },
    "id": "IbQ0B1a3BpAV",
    "outputId": "fa5700bf-7e9c-4303-aeae-736ce1b97b02"
   },
   "outputs": [
    {
     "name": "stdout",
     "output_type": "stream",
     "text": [
      "Estimation of 2nd moment: 436000\n",
      "True second moment: 401098\n"
     ]
    }
   ],
   "source": [
    "#initialize values and counts\n",
    "v = []\n",
    "c = []\n",
    "#keeping the true counts \n",
    "counts = {}\n",
    "#choosing k timestamps\n",
    "k = 10\n",
    "t = []\n",
    "for _ in range(k): #estimators\n",
    "  t.append(random.randrange(stream_size))\n",
    "  v.append(-1)\n",
    "  c.append(0)\n",
    "\n",
    "for i in range(stream_size):\n",
    "  #take a random value between 0 and N-1\n",
    "  s = random.randrange(N) # stream\n",
    "  #AMS approach\n",
    "  for j in range(k):\n",
    "    if i==t[j]: #chosen timestamp\n",
    "      v[j] = s\n",
    "      c[j] = 1\n",
    "    elif i>t[j] and s==v[j]: #after timestamp\n",
    "      c[j] += 1\n",
    "  #true counts (only for evaluation!)\n",
    "  if s not in counts:\n",
    "    counts[s] = 0\n",
    "  counts[s] = counts[s]+1\n",
    "\n",
    "#true 2nd moment\n",
    "true = 0\n",
    "for x in counts.keys():\n",
    "  true += counts[x]*counts[x]\n",
    "\n",
    "#2nd moment estimator\n",
    "est = 0\n",
    "for x in range(k):\n",
    "  est += 2*c[x]-1\n",
    "est = int((stream_size/k)*est)\n",
    "\n",
    "print('Estimation of 2nd moment: %d'%est)\n",
    "print('True second moment: %d'%true)"
   ]
  },
  {
   "cell_type": "markdown",
   "metadata": {
    "id": "Dz9rNT2Na35t"
   },
   "source": [
    "### 3. **TASK** AMS for Infinite Streams\n",
    "\n",
    "Implement the case when the estimator does not know the size of the stream.\n",
    "\n",
    "In this case, instead of generating $k$ timestamps, we proceed to use _Reservoir Sampling_ as explained in the lecture:\n",
    "1. initialize $v$ and $c$ with the corresponding values in the first $k$ items in the stream $S$,\n",
    "2. for timestamp $t>k$, we decide whether to replace a $v$ with probability $k/t$,\n",
    "3. if true, we replace a value (and its corresponding count) at random in the arrays $v$ and $c$ (and re-initialize the values)."
   ]
  },
  {
   "cell_type": "code",
   "execution_count": 19,
   "metadata": {
    "id": "tan6ZeaXY3wx"
   },
   "outputs": [],
   "source": [
    "# reservoire sampling\n",
    "\n",
    "#Reservoir Sampling Class Implementation\n",
    "\n",
    "#k = 10 # initial number of estimators\n",
    "\"\"\"\n",
    "for i in range(100):\n",
    "    s = random.randrange(N)\n",
    "    #we want to keep a sample of the stream, of k values in the array v\n",
    "    if i<k: #if the timestamp is between 0 and k-1\n",
    "        print ('Timestamp %d<%d value %d -- fill'%(i,k,s))\n",
    "        v.append(s) #fill the reservoir\n",
    "    else:\n",
    "        #decide whether the new value replaces one of the old ones\n",
    "        c = random.random() #chooses a value in [0,1] uniformly\n",
    "        print ('Timestamp %d>=%d value %d -- decide whether to replace'%(i,k,s))\n",
    "        if c <= k/i: #if c is between [0,k/i] then we want to replace, if c is in (k/i,1] we discard\n",
    "            #we keep\n",
    "            j = random.randrange(k) #choose a value between 0 and k-1 to replace\n",
    "            print ('\\t coin %f <= %f -- replace pos %d'%(c,k/i,j))\n",
    "            v[j] = s #replace with the new value in the stream\n",
    "        else:\n",
    "            print ('\\t coin %f > %f -- do not replace'%(c,k/i))\n",
    "    print(v)\n",
    "\"\"\"\n",
    "\n",
    "\n",
    "class Reservoir_sampling:\n",
    "    def __init__(self,size):\n",
    "        self.max_size=size\n",
    "        self.size = 0\n",
    "        self.stream_number = 0\n",
    "        self.reservoir = []\n",
    "        \n",
    "        self.real_moment_count = {}\n",
    "        \n",
    "    def insert(self,element):\n",
    "        \n",
    "        self.stream_number+=1\n",
    "        \n",
    "        if self.size<self.max_size: #if the timestamp is between 0 and k-1\n",
    "            #print ('Timestamp %d<%d value %d -- fill'%(i,k,s))\n",
    "            self.reservoir.append(element) #fill the reservoir\n",
    "            self.size+=1\n",
    "        else:\n",
    "            #decide whether the new value replaces one of the old ones\n",
    "            c = random.random() #chooses a value in [0,1] uniformly\n",
    "            #print ('Timestamp %d>=%d value %d -- decide whether to replace'%(i,k,s))\n",
    "            if c <= self.max_size/self.stream_number: #if c is between [0,k/i] then we want to replace, if c is in (k/i,1] we discard\n",
    "                #we keep\n",
    "                j = random.randrange(self.max_size) #choose a value between 0 and k-1 to replace\n",
    "                #print ('\\t coin %f <= %f -- replace pos %d'%(c,k/i,j))\n",
    "                self.reservoir[j] = element #replace with the new value in the stream\n",
    "        \n",
    "        #compute the real second moment\n",
    "        if element not in self.real_moment_count:\n",
    "            self.real_moment_count[element] = 0\n",
    "        self.real_moment_count[element] = self.real_moment_count[element]+1\n",
    "\n",
    "    \n",
    "    def get_reservoir(self):\n",
    "        return self.reservoir\n",
    "    \n",
    "    def get_real_second_moment(self):\n",
    "        moment = 0\n",
    "        for x in self.real_moment_count.keys():\n",
    "            moment += self.real_moment_count[x]*self.real_moment_count[x]\n",
    "        return moment\n",
    "        \n",
    "\n",
    "def second_moment_estimator(reservoir,nb_estimators,stream_size):\n",
    "    v = []\n",
    "    c = []\n",
    "    t = []\n",
    "    for _ in range(nb_estimators): #estimators\n",
    "        random_spot = random.randrange(len(reservoir))\n",
    "        if random_spot not in t:\n",
    "            t.append(random_spot) # choose arbitrary random spots (index in reservoir)\n",
    "            v.append(-1)\n",
    "            c.append(0)\n",
    "        else:\n",
    "            #print(\"collision of estimators spots -1 less estimator\")\n",
    "            \n",
    "        \n",
    "    for index in range(len(reservoir)): # for each element in reservoir\n",
    "        for estimator_index in range(len(t)): # for each estimator\n",
    "            if(index==t[estimator_index]): #initialization case\n",
    "                v[estimator_index] = reservoir[index]\n",
    "                c[estimator_index] = 1\n",
    "            else:\n",
    "                if(index>t[estimator_index]) and (v[estimator_index]==reservoir[index]):\n",
    "                    c[estimator_index] +=1\n",
    "    est = 0\n",
    "    for x in range(len(c)):\n",
    "        est += 2*c[x]-1\n",
    "    est = int((stream_size/len(c))*est) \n",
    "    \n",
    "    # len(c),len(t) or len(v) is the real number of used estimators while removing redundent ones\n",
    "    \n",
    "    #print('Estimation of 2nd moment: %d'%est)\n",
    "    \n",
    "    return est\n",
    "        \n",
    "    "
   ]
  },
  {
   "cell_type": "code",
   "execution_count": 24,
   "metadata": {},
   "outputs": [
    {
     "name": "stdout",
     "output_type": "stream",
     "text": [
      "[101, 226, 240, 51, 112, 76, 114, 112, 100, 14, 125, 99, 97, 99, 167, 120, 51, 22, 110, 198, 123, 92, 139, 57, 145, 186, 135, 77, 115, 155, 174, 81, 10, 0, 32, 195, 135, 169, 18, 17, 117, 39, 233, 117, 28, 29, 193, 211, 17, 180, 214, 36, 80, 146, 177, 31, 165, 6, 248, 94, 153, 135, 241, 153, 27, 242, 221, 83, 159, 94, 102, 239, 112, 203, 143, 204, 184, 95, 25, 241, 41, 237, 250, 209, 186, 84, 62, 7, 150, 16, 213, 89, 123, 124, 93, 29, 8, 30, 166, 146, 231, 54, 31, 80, 69, 0, 99, 232, 39, 218, 247, 79, 128, 115, 116, 7, 123, 196, 111, 143, 73, 50, 101, 91, 174, 134, 95, 19, 26, 50, 229, 183, 2, 75, 41, 89, 141, 84, 95, 4, 101, 129, 187, 104, 134, 116, 254, 235, 24, 176, 201, 17, 134, 123, 210, 137, 205, 199, 139, 93, 246, 37, 39, 18, 109, 101, 226, 80, 78, 5, 50, 55, 109, 223, 5, 214, 30, 184, 186, 146, 170, 27, 4, 79, 14, 2, 32, 186, 140, 76, 240, 184, 220, 131, 189, 20, 170, 196, 40, 145, 82, 64, 175, 127, 196, 236, 242, 175, 44, 94, 53, 227, 133, 116, 3, 61, 82, 219, 157, 21, 163, 126, 164, 129, 211, 100, 28, 171, 32, 110, 181, 130, 243, 235, 43, 223, 108, 200, 21, 146, 78, 81, 119, 116, 87, 212, 226, 215, 172, 180, 200, 76, 139, 188, 107, 189, 35, 27, 236, 99, 7, 252, 42, 112, 133, 138, 53, 20, 17, 182, 21, 83, 87, 239, 104, 129, 146, 10, 132, 28, 137, 128, 183, 97, 203, 131, 146, 180, 87, 106, 155, 95, 113, 110, 245, 52, 129, 155, 125, 168]\n",
      "real second moment 400490\n",
      "collision of estimators spots -1 less estimator\n",
      "estimated second moment 23103\n"
     ]
    }
   ],
   "source": [
    "k = 30 # initial number of estimators\n",
    "reservoir_size = 300 # size of the reservoire\n",
    "\n",
    "reservoir_sampler = Reservoir_sampling(reservoir_size) # size of the reservoire\n",
    "\n",
    "for i in range(stream_size): # stream size is in the start\n",
    "    reservoir_sampler.insert(random.randrange(N))\n",
    "    \n",
    "print(reservoir_sampler.get_reservoir())\n",
    "\n",
    "assert(reservoir_sampler.stream_number==stream_size)\n",
    "\n",
    "print(\"real second moment %d\"%reservoir_sampler.get_real_second_moment())\n",
    "print(\"estimated second moment %d\"%second_moment_estimator(reservoir_sampler.get_reservoir(),k,reservoir_sampler.stream_number))"
   ]
  },
  {
   "cell_type": "markdown",
   "metadata": {
    "id": "FZHcE7Jve1PR"
   },
   "source": [
    "_You can use this cell to write your discussion of the results_"
   ]
  }
 ],
 "metadata": {
  "colab": {
   "collapsed_sections": [],
   "name": "m2_ds_algods_lab4_moments.ipynb",
   "provenance": []
  },
  "interpreter": {
   "hash": "aee8b7b246df8f9039afb4144a1f6fd8d2ca17a180786b69acc140d282b71a49"
  },
  "kernelspec": {
   "display_name": "Python 3",
   "language": "python",
   "name": "python3"
  },
  "language_info": {
   "codemirror_mode": {
    "name": "ipython",
    "version": 3
   },
   "file_extension": ".py",
   "mimetype": "text/x-python",
   "name": "python",
   "nbconvert_exporter": "python",
   "pygments_lexer": "ipython3",
   "version": "3.8.8"
  }
 },
 "nbformat": 4,
 "nbformat_minor": 2
}
